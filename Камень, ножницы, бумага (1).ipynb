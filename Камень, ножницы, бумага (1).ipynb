{
 "cells": [
  {
   "cell_type": "code",
   "execution_count": 35,
   "metadata": {},
   "outputs": [
    {
     "name": "stdout",
     "output_type": "stream",
     "text": [
      "\n",
      "\u001b[1m[\u001b[0m\u001b[34;49mnotice\u001b[0m\u001b[1;39;49m]\u001b[0m\u001b[39;49m A new release of pip is available: \u001b[0m\u001b[31;49m24.2\u001b[0m\u001b[39;49m -> \u001b[0m\u001b[32;49m24.3.1\u001b[0m\n",
      "\u001b[1m[\u001b[0m\u001b[34;49mnotice\u001b[0m\u001b[1;39;49m]\u001b[0m\u001b[39;49m To update, run: \u001b[0m\u001b[32;49mpython3 -m pip install --upgrade pip\u001b[0m\n"
     ]
    }
   ],
   "source": [
    "!pip install -q -U kaggle_environments"
   ]
  },
  {
   "cell_type": "code",
   "execution_count": 36,
   "metadata": {},
   "outputs": [],
   "source": [
    "import numpy as np\n",
    "import pandas as pd\n",
    "import random\n",
    "import math\n",
    "\n",
    "import matplotlib.pyplot as plt\n",
    "import seaborn as sns\n",
    "\n",
    "from kaggle_environments import make, evaluate\n"
   ]
  },
  {
   "cell_type": "markdown",
   "metadata": {},
   "source": [
    "Добавляем агента, который выбирает только камень."
   ]
  },
  {
   "cell_type": "code",
   "execution_count": 37,
   "metadata": {},
   "outputs": [],
   "source": [
    "class RockAgent:\n",
    "    def __call__(self, observation, configuration):\n",
    "        # 0 - камень\n",
    "        return 0"
   ]
  },
  {
   "cell_type": "markdown",
   "metadata": {},
   "source": [
    "Добавляем агента, который выбирает только бумагу."
   ]
  },
  {
   "cell_type": "code",
   "execution_count": 38,
   "metadata": {},
   "outputs": [],
   "source": [
    "\n",
    "class PaperAgent:\n",
    "    def __call__(self, observation, configuration):\n",
    "        # 1 - бумага\n",
    "        return 1"
   ]
  },
  {
   "cell_type": "markdown",
   "metadata": {},
   "source": [
    "Добавляем агента, который выбирает только ножницы."
   ]
  },
  {
   "cell_type": "code",
   "execution_count": 39,
   "metadata": {},
   "outputs": [],
   "source": [
    "class ScissorsAgent:\n",
    "    def __call__(self, observation, configuration):\n",
    "        # 2 - ножницы\n",
    "        return 2\n",
    "     "
   ]
  },
  {
   "cell_type": "markdown",
   "metadata": {},
   "source": [
    "Добавляем агента, который производит то же самое действие, что и оппонент на прошлом ходу."
   ]
  },
  {
   "cell_type": "code",
   "execution_count": 40,
   "metadata": {},
   "outputs": [],
   "source": [
    "class CopyAgent:\n",
    "    def __call__(self, observation, configuration):\n",
    "        # если это не первый ход\n",
    "        if observation.step > 0:\n",
    "            # то ходим так, как ходил соперник в прошлый ход\n",
    "            return observation.lastOpponentAction\n",
    "        # иначе это первый ход\n",
    "        else:\n",
    "            # возвращаем рандомное значение из доступных вариантов\n",
    "            return random.randrange(0, configuration.signs)"
   ]
  },
  {
   "cell_type": "markdown",
   "metadata": {},
   "source": [
    "Добавляем агента, реагирующего на последний ход соперника. Данный агент выбирает ход, с которым он бы победил в предыдущем раунде."
   ]
  },
  {
   "cell_type": "code",
   "execution_count": 41,
   "metadata": {},
   "outputs": [],
   "source": [
    "class ReactionaryAgent:\n",
    "    def __call__(self, observation, configuration):\n",
    "        # если это первый ход\n",
    "        if observation.step == 0:\n",
    "            # возвращаем рандомное значение из доступных вариантов\n",
    "            return random.randrange(0, configuration.signs)\n",
    "        # берем предыдущий ход соперника и ходим, чтобы победить его\n",
    "        return (observation.lastOpponentAction + 1) % configuration.signs"
   ]
  },
  {
   "cell_type": "markdown",
   "metadata": {},
   "source": [
    "Добавляем агента, реагирующего на последний ход соперника. Данный агент выбирает ход, с которым он бы победил в игре против предыдущего агента(reactionary_agent)"
   ]
  },
  {
   "cell_type": "code",
   "execution_count": 42,
   "metadata": {},
   "outputs": [],
   "source": [
    "\n",
    "class ContrReactionaryAgent:\n",
    "    # инициализируем агента\n",
    "    def __init__(self):\n",
    "        # инициализируем переменную, в которой будем хранить свой последний ход\n",
    "        self.last_step = -1\n",
    "\n",
    "    def __call__(self, observation, configuration):\n",
    "        # если это первый ход\n",
    "        if self.last_step < 0:\n",
    "            # записываем в переменную последнего хода 0\n",
    "            self.last_step = 0\n",
    "        # иначе\n",
    "        else:\n",
    "            # записываем в переменную последнего хода значение на 2 больше,\n",
    "            # чем последний ход соперника\n",
    "            self.last_step = (self.last_step + 2) % configuration.signs\n",
    "        # возвращаем получившееся значение\n",
    "        return self.last_step"
   ]
  },
  {
   "cell_type": "markdown",
   "metadata": {},
   "source": [
    "Добавляем монотонного агента, который ходит по порядку меняя ход на следующий (0-1-2-0-1-2-...)."
   ]
  },
  {
   "cell_type": "code",
   "execution_count": 43,
   "metadata": {},
   "outputs": [],
   "source": [
    "class MonotonousAgent:\n",
    "    def __call__(self, observation, configuration):\n",
    "        # если это первый ход\n",
    "        if observation.step == 0:\n",
    "            # возвращаем рандомное значение из доступных вариантов\n",
    "            return random.randrange(0, configuration.signs)\n",
    "        # иначе берем остаток от деления номера текущего эпизода на\n",
    "        # количество возможных вариантов\n",
    "        return observation.step % configuration.signs"
   ]
  },
  {
   "cell_type": "markdown",
   "metadata": {},
   "source": [
    "Добавляем статистического агента, который подсчитывает самый частый ход соперника и соответственно реагирует."
   ]
  },
  {
   "cell_type": "code",
   "execution_count": 44,
   "metadata": {},
   "outputs": [],
   "source": [
    "class StatisticalAgent:\n",
    "    def __init__(self):\n",
    "        # инициализируем переменную для хранения статистики\n",
    "        self.action_histogram = {}\n",
    "\n",
    "    def __call__(self, observation, configuration):\n",
    "        # если это первый ход\n",
    "        if observation.step == 0:\n",
    "            # сбрасываем статистику\n",
    "            self.action_histogram = {}\n",
    "            # возвращаем рандомное значение из доступных вариантов\n",
    "            return random.randrange(0, configuration.signs)\n",
    "        # сохраняем в переменную последний ход соперника\n",
    "        action = observation.lastOpponentAction\n",
    "        # если такого ключа еще нет в справочнике\n",
    "        if action not in self.action_histogram:\n",
    "            # добавляем в справочник со значением 0\n",
    "            self.action_histogram[action] = 0\n",
    "        # делаем инкремент счетчика для такого хода соперника\n",
    "        self.action_histogram[action] += 1\n",
    "\n",
    "        # определяем статистически самый частый ход соперника\n",
    "        # инициализируем переменную для хранения хода с максимальным счетчиком\n",
    "        mode_action = None\n",
    "        # инициализируем переменную для хранения максимального значения счетчика\n",
    "        mode_action_count = None\n",
    "        # для каждой пары ключ-значение в справочнике статистики\n",
    "        for k, v in self.action_histogram.items():\n",
    "            # если значение в справочнике для этого ключа не установлено\n",
    "            # или значение итератора больше значения в справочнике\n",
    "            if mode_action_count is None or v > mode_action_count:\n",
    "                # сохраняем текущий ключ в переменную максимума\n",
    "                mode_action = k\n",
    "                # сохраняем текущее значение в переменную максимума\n",
    "                mode_action_count = v\n",
    "                # переходим к следующей итерации\n",
    "                continue\n",
    "        # ходим так, чтобы победить самый частый ход соперника\n",
    "        return (mode_action + 1) % configuration.signs"
   ]
  },
  {
   "cell_type": "markdown",
   "metadata": {},
   "source": [
    "Добавляем агента, который ходит всегда случайно."
   ]
  },
  {
   "cell_type": "code",
   "execution_count": 45,
   "metadata": {},
   "outputs": [],
   "source": [
    "class RandomChoiceAgent:\n",
    "    def __call__(self, observation, configuration):\n",
    "        # возвращаем рандомное значение из доступных вариантов\n",
    "        return random.randrange(0, configuration.signs)\n",
    "     "
   ]
  },
  {
   "cell_type": "markdown",
   "metadata": {},
   "source": [
    "Добавляем агента, который ходит монотонно, но через один шаг (0-2-1-0-2-1...)"
   ]
  },
  {
   "cell_type": "code",
   "execution_count": 46,
   "metadata": {},
   "outputs": [],
   "source": [
    "class MonotonousStepAgent:\n",
    "    def __init__(self):\n",
    "        # инициализируем поле для хранения последнего хода\n",
    "        self.last_step = -1\n",
    "\n",
    "    def __call__(self, observation, configuration):\n",
    "        # если это первый ход\n",
    "        if self.last_step < 0:\n",
    "            # возвращаем рандомное значение из доступных вариантов\n",
    "            self.last_step = random.randrange(0, configuration.signs)\n",
    "        # прибавляем 2 к своему последнему ходу\n",
    "        return (self.last_step + 2) % configuration.signs\n"
   ]
  },
  {
   "cell_type": "markdown",
   "metadata": {},
   "source": [
    "Добавляем агента, который ходит монотонно, но повторяет по 2 раза (0-0-1-1-2-2-0...)"
   ]
  },
  {
   "cell_type": "code",
   "execution_count": 47,
   "metadata": {},
   "outputs": [],
   "source": [
    "class MonotonousRepeatAgent:\n",
    "    def __init__(self):\n",
    "        # инициализируем поле для хранения последнего хода\n",
    "        self.last_step = -1\n",
    "        # инициализируем поле для хранения  количества повторов\n",
    "        self.repeats = 0\n",
    "\n",
    "    def __call__(self, observation, configuration):\n",
    "        # если это первый ход\n",
    "        if self.last_step < 0:\n",
    "            # возвращаем рандомное значение из доступных вариантов\n",
    "            self.last_step = random.randrange(0, configuration.signs)\n",
    "        # если повтора еще не было\n",
    "        if self.repeats == 0:\n",
    "            # инкрементируем количество повторов\n",
    "            self.repeats += 1\n",
    "        # если уже повторяли\n",
    "        else:\n",
    "            # сбрасываем счетчик повторов\n",
    "            self.repeats = 0\n",
    "            # инкрементируем значение последнего шага\n",
    "            self.last_step = (self.last_step + 1) % configuration.signs\n",
    "        # возвращаем значение поля, хранящего последний шаг\n",
    "        return self.last_step\n"
   ]
  },
  {
   "cell_type": "markdown",
   "metadata": {},
   "source": [
    "Добавляем агента, который 1/3 предусмотренных эпизодов ходит 0, затем еще 1/3 ходит 1, потом оставшуюся часть ходит 2"
   ]
  },
  {
   "cell_type": "code",
   "execution_count": 48,
   "metadata": {},
   "outputs": [],
   "source": [
    "class PartAgent:\n",
    "    def __init__(self):\n",
    "        # инициализируем поле для хранения последнего хода\n",
    "        self.last_step = 0\n",
    "        # инициализируем поле для хранения  количества повторов\n",
    "        self.repeats = 0\n",
    "\n",
    "    def __call__(self, observation, configuration):\n",
    "        # если количество повторов меньше 1/3 от запланированного количества эпизодов\n",
    "        if self.repeats < (configuration.get('episodeSteps') / 3):\n",
    "            # инкрементируем счетчик повторов\n",
    "            self.repeats += 1\n",
    "        # иначе переход к следующему значению\n",
    "        else:\n",
    "            # сбрасываем счетчик повторов\n",
    "            self.repeats = 0\n",
    "            # инкрементируем значение последнего шага\n",
    "            self.last_step = (self.last_step + 1) % configuration.signs\n",
    "        # возвращаем значение поля, хранящего последний шаг\n",
    "        return self.last_step"
   ]
  },
  {
   "cell_type": "markdown",
   "metadata": {},
   "source": [
    "Добавляем агента, который 1/3 предусмотренных эпизодов, ходит как ReactionaryAgent, а затем как StatisticalAgent"
   ]
  },
  {
   "cell_type": "code",
   "execution_count": 49,
   "metadata": {},
   "outputs": [],
   "source": [
    "class ComboAgent:\n",
    "    def __init__(self):\n",
    "        # инициализируем поле для хранения последнего хода\n",
    "        self.last_step = 0\n",
    "        # инициализируем поле для хранения  количества повторов\n",
    "        self.repeats = 0\n",
    "        # инициализируем переменную для хранения статистики\n",
    "        self.action_histogram = {}\n",
    "\n",
    "    def __call__(self, observation, configuration):\n",
    "        # если это первый ход\n",
    "        if observation.step == 0:\n",
    "            # сбрасываем статистику\n",
    "            self.action_histogram = {}\n",
    "            # возвращаем рандомное значение из доступных вариантов\n",
    "            return random.randrange(0, configuration.signs)\n",
    "        # сохраняем в переменную последний ход соперника\n",
    "        action = observation.lastOpponentAction\n",
    "        # если количество повторов меньше 1/3 от запланированного количества эпизодов\n",
    "        if self.repeats < (configuration.get('episodeSteps') / 3):\n",
    "            # инкрементируем счетчик повторов\n",
    "            self.repeats += 1\n",
    "            # берем предыдущий ход соперника и ходим, чтобы победить его\n",
    "            return (action + 1) % configuration.signs\n",
    "        # иначе после прохождения 1/3 эпизодов\n",
    "        else:\n",
    "            # если такого ключа еще нет в справочнике\n",
    "            if action not in self.action_histogram:\n",
    "                # добавляем в справочник со значением 0\n",
    "                self.action_histogram[action] = 0\n",
    "            # делаем инкремент счетчика для такого хода соперника\n",
    "            self.action_histogram[action] += 1\n",
    "\n",
    "            # определяем статистически самый частый ход соперника\n",
    "            # инициализируем переменную для хранения хода с максимальным счетчиком\n",
    "            mode_action = None\n",
    "            # инициализируем переменную для хранения максимального значения счетчика\n",
    "            mode_action_count = None\n",
    "            # для каждой пары ключ-значение в справочнике статистики\n",
    "            for k, v in self.action_histogram.items():\n",
    "                # если значение в справочнике для этого ключа не установлено\n",
    "                # или значение итератора больше значения в справочнике\n",
    "                if mode_action_count is None or v > mode_action_count:\n",
    "                    # сохраняем текущий ключ в переменную максимума\n",
    "                    mode_action = k\n",
    "                    # сохраняем текущее значение в переменную максимума\n",
    "                    mode_action_count = v\n",
    "                    # переходим к следующей итерации\n",
    "                    continue\n",
    "            # ходим так, чтобы победить самый частый ход соперника\n",
    "            return (mode_action + 1) % configuration.signs"
   ]
  },
  {
   "cell_type": "markdown",
   "metadata": {},
   "source": [
    "Собираем справочник агентов, где ключ - наименование, а значение - инстанс соответствующего агента"
   ]
  },
  {
   "cell_type": "code",
   "execution_count": 50,
   "metadata": {},
   "outputs": [],
   "source": [
    "agents = {\n",
    "    'rock': RockAgent(),\n",
    "    'paper': PaperAgent(),\n",
    "    'scissors': ScissorsAgent(),\n",
    "    'copy_opponent': CopyAgent(),\n",
    "    'reactionary': ReactionaryAgent(),\n",
    "    'contr_reactionary': ContrReactionaryAgent(),\n",
    "    'monotonous': MonotonousAgent(),\n",
    "    'statistical': StatisticalAgent(),\n",
    "    'random_choice': RandomChoiceAgent(),\n",
    "    'monotonous_step': MonotonousStepAgent(),\n",
    "    'repeat': MonotonousRepeatAgent(),\n",
    "    'part': PartAgent(),\n",
    "    'combo': ComboAgent()\n",
    "}"
   ]
  },
  {
   "cell_type": "markdown",
   "metadata": {},
   "source": [
    "Проводим Турнир в 2-х разрезах:\n",
    "\n",
    "За победу в матче присуждаем 2 очка, за ничью - 1\n",
    "Считаем сумму по выигранным/проигранным эпизодам - за победу в эпизоде +1, за поражение -1"
   ]
  },
  {
   "cell_type": "code",
   "execution_count": 51,
   "metadata": {},
   "outputs": [
    {
     "data": {
      "image/png": "[encoded data removed]",
      "text/plain": [
       "<Figure size 2500x500 with 1 Axes>"
      ]
     },
     "metadata": {},
     "output_type": "display_data"
    },
    {
     "data": {
      "image/png": "[encoded data removed]",
      "text/plain": [
       "<Figure size 2500x500 with 1 Axes>"
      ]
     },
     "metadata": {},
     "output_type": "display_data"
    }
   ],
   "source": [
    "class Tournament:\n",
    "    def __init__(self, agents):\n",
    "        \"\"\"\n",
    "        :param dict agents: справочник агентов\n",
    "        \"\"\"\n",
    "\n",
    "        # инициализируем атрибут со справочником агентов\n",
    "        self.agents = agents\n",
    "        # инициализируем справочник с результатами\n",
    "        self.results = {}\n",
    "        # для каждого ключа в справочнике агентов\n",
    "        for agent in agents:\n",
    "            # подготавливаем результат с 0 значением\n",
    "            self.results[agent] = {'episodes_sum': 0, 'points': 0}\n",
    "\n",
    "    # приватный метод для сохранения результатов раунда\n",
    "    def __save_result(self, round_result, left, right):\n",
    "        \"\"\"\n",
    "        Сохраняет результаты раунда.\n",
    "\n",
    "        :param list round_result: результаты раунда\n",
    "        :param str left: наименование левого агента\n",
    "        :param str right: наименование правого агента\n",
    "        \"\"\"\n",
    "        # сохраняем в переменную количество побед в ранде левого агента\n",
    "        left_wins = round_result[0][0]\n",
    "        # сохраняем в переменную количество побед в ранде левого агента\n",
    "        right_wins = round_result[0][1]\n",
    "        # добавляем победы левого агента в результаты\n",
    "        self.results[left]['episodes_sum'] += left_wins\n",
    "        # добавляем победы правого агента в результаты\n",
    "        self.results[right]['episodes_sum'] += right_wins\n",
    "        # если у левого агента больше побед\n",
    "        if left_wins > right_wins:\n",
    "            # добавляем в результаты 2 очка левому агенту\n",
    "            self.results[left]['points'] += 2\n",
    "        # если у правого агента больше побед\n",
    "        elif left_wins < right_wins:\n",
    "            # добавляем в результаты 2 очка правому агенту\n",
    "            self.results[right]['points'] += 2\n",
    "        # иначе ничья\n",
    "        else:\n",
    "            # добавляем в результаты 1 очко левому агенту\n",
    "            self.results[left]['points'] += 1\n",
    "            # добавляем в результаты 1 очко правому агенту\n",
    "            self.results[right]['points'] += 1\n",
    "\n",
    "    def start(self, episodes):\n",
    "        \"\"\"\n",
    "        Метод запускает проведение турнира.\n",
    "\n",
    "        :param int episodes: количество эпизодов в каждом раунде\n",
    "        \"\"\"\n",
    "        # собираем список имен агентов\n",
    "        names = list(self.agents.keys())\n",
    "\n",
    "        # проводим раунды для всех возможных пар агентов\n",
    "        # для числа i от 0 до количества агентов уменьшенного на 1\n",
    "        # i будет представлять индекс левого агента в раунде\n",
    "        for i in range(len(names) - 1):\n",
    "            # для числа j от 0 до количества агентов уменьшенного на 1\n",
    "            for j in range(len(names) - 1):\n",
    "                # определяем индекс правого агента\n",
    "                index = j + 1 + i\n",
    "                # если вычисленный индекс превысил макимальный индекс\n",
    "                if index > (len(names) - 1):\n",
    "                    # выходим из цикла\n",
    "                    break\n",
    "                # сохраняем в переменную имя левого агента\n",
    "                left = names[i]\n",
    "                # сохраняем в переменную имя правого агента\n",
    "                right = names[index]\n",
    "                # проводим раунд и сохраняем результат в переменную\n",
    "                round_result = evaluate(\n",
    "                    \"rps\", #environment to use - no need to change\n",
    "                    [agents[left], agents[right]], #agents to evaluate\n",
    "                    configuration={\"episodeSteps\": episodes}, #episodes\n",
    "                    debug=True\n",
    "                )\n",
    "                # сохраняем результат раунда\n",
    "                self.__save_result(round_result, left, right)\n",
    "\n",
    "    def print_result(self):\n",
    "        \"\"\"\n",
    "        Отображает результаты турнира\n",
    "        \"\"\"\n",
    "        # сортируем результат по полученным очкам\n",
    "        sorted_table_p = dict(\n",
    "            sorted(\n",
    "                self.results.items(),\n",
    "                key=lambda x: (x[1].get('points'), x[1].get('episodes_sum')),\n",
    "                reverse=True\n",
    "                )\n",
    "            )\n",
    "        # собираем список имен агентов в отсортированном порядке\n",
    "        names_p = [name for name in sorted_table_p]\n",
    "        # собираем список очков в отсортированном порядке\n",
    "        points = [x[1].get('points') for x in sorted_table_p.items()]\n",
    "\n",
    "        # создаем и отображаем график\n",
    "        dfp = pd.DataFrame({\"agent\": names_p, \"point\": points})\n",
    "        plt.figure(figsize=(25, 5))\n",
    "        splot = sns.barplot(x=\"agent\",y=\"point\",data=dfp)\n",
    "        plt.xlabel(\"Агент\", size=16)\n",
    "        plt.ylabel(\"Очки\", size=16)\n",
    "        plt.bar_label(splot.containers[0],size=16,label_type='center')\n",
    "        plt.suptitle('По очкам')\n",
    "        plt.show()\n",
    "\n",
    "        # сортируем результат по сумме выигранных эпизодов\n",
    "        sorted_table_e = dict(\n",
    "            sorted(\n",
    "                self.results.items(),\n",
    "                key=lambda x: (x[1].get('episodes_sum'), x[1].get('points')),\n",
    "                reverse=True\n",
    "                )\n",
    "            )\n",
    "        # собираем список имен агентов в отсортированном порядке\n",
    "        names_e = [name for name in sorted_table_e]\n",
    "        # собираем список сумм выигранных эпизодов в отсортированном порядке\n",
    "        ep_sum = [x[1].get('episodes_sum') for x in sorted_table_e.items()]\n",
    "\n",
    "        # создаем и отображаем график\n",
    "        dfe = pd.DataFrame({\"agent\": names_e, \"win\": ep_sum})\n",
    "        plt.figure(figsize=(25, 5))\n",
    "        splot=sns.barplot(x=\"agent\",y=\"win\",data=dfe)\n",
    "        plt.xlabel(\"Агент\", size=16)\n",
    "        plt.ylabel(\"Сумма по эпизодам\", size=16)\n",
    "        plt.bar_label(splot.containers[0],size=16,label_type='center')\n",
    "        plt.suptitle('По эпизодам')\n",
    "        plt.show()\n",
    "\n",
    "\n",
    "# создаем турнир, передав подготовленный справочник агентов\n",
    "tournament = Tournament(agents)\n",
    "# запускаем турнир, передав количество эпизодов в раунде\n",
    "tournament.start(1000)\n",
    "# отображаем результат турнира\n",
    "tournament.print_result()"
   ]
  }
 ],
 "metadata": {
  "kernelspec": {
   "display_name": "Python 3",
   "language": "python",
   "name": "python3"
  },
  "language_info": {
   "codemirror_mode": {
    "name": "ipython",
    "version": 3
   },
   "file_extension": ".py",
   "mimetype": "text/x-python",
   "name": "python",
   "nbconvert_exporter": "python",
   "pygments_lexer": "ipython3",
   "version": "3.12.1"
  }
 },
 "nbformat": 4,
 "nbformat_minor": 2
}
